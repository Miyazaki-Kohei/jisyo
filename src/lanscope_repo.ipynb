{
 "cells": [
  {
   "cell_type": "code",
   "execution_count": 35,
   "id": "8b153153-823f-463b-883b-c33ad84e8328",
   "metadata": {},
   "outputs": [],
   "source": [
    "import requests\n",
    "import csv\n",
    "from datetime import datetime, timedelta\n",
    "import pytz\n",
    "import os\n",
    "from dotenv import load_dotenv"
   ]
  },
  {
   "cell_type": "code",
   "execution_count": 46,
   "id": "1ada6247-42ee-449f-b4fd-b2ffd8322094",
   "metadata": {},
   "outputs": [],
   "source": [
    "# .env ファイルを読み込む\n",
    "load_dotenv()\n",
    "\n",
    "# 環境変数の取得\n",
    "url_device= 'https://api.lanscopean.com/v1/devices'\n",
    "url_\n",
    "access_token = os.getenv('ACCESS_TOKEN')"
   ]
  },
  {
   "cell_type": "code",
   "execution_count": 47,
   "id": "28a0b21a-53dd-4d02-b346-500a1eed9fde",
   "metadata": {},
   "outputs": [],
   "source": [
    "headers = {'Authorization':f'Bearer {access_token}','Content-Type':'application/json'}\n",
    "response = requests.get(url_device, headers=headers)"
   ]
  },
  {
   "cell_type": "code",
   "execution_count": 48,
   "id": "a4c18043-bb90-408e-abd1-6426f84b511e",
   "metadata": {},
   "outputs": [
    {
     "data": {
      "text/plain": [
       "'https://api.lanscopean.com/v1/devices'"
      ]
     },
     "execution_count": 48,
     "metadata": {},
     "output_type": "execute_result"
    }
   ],
   "source": [
    "url"
   ]
  },
  {
   "cell_type": "code",
   "execution_count": 57,
   "id": "ebfe841b-0a0c-4128-a479-d130651465f1",
   "metadata": {},
   "outputs": [
    {
     "data": {
      "text/plain": [
       "'MOBILE'"
      ]
     },
     "execution_count": 57,
     "metadata": {},
     "output_type": "execute_result"
    }
   ],
   "source": [
    "data = response.json()\n",
    "data[\"data\"][100]['device_type']"
   ]
  },
  {
   "cell_type": "code",
   "execution_count": null,
   "id": "b6b9f979-37b9-4ff5-8f9e-01d332afe1d0",
   "metadata": {},
   "outputs": [],
   "source": []
  }
 ],
 "metadata": {
  "kernelspec": {
   "display_name": "Python 3 (ipykernel)",
   "language": "python",
   "name": "python3"
  },
  "language_info": {
   "codemirror_mode": {
    "name": "ipython",
    "version": 3
   },
   "file_extension": ".py",
   "mimetype": "text/x-python",
   "name": "python",
   "nbconvert_exporter": "python",
   "pygments_lexer": "ipython3",
   "version": "3.12.3"
  }
 },
 "nbformat": 4,
 "nbformat_minor": 5
}
